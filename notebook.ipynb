{
 "cells": [
  {
   "cell_type": "code",
   "execution_count": 1,
   "metadata": {},
   "outputs": [],
   "source": [
    "from datetime import datetime, timezone\n",
    "\n",
    "import matplotlib.pyplot as plt\n",
    "from dateutil.relativedelta import relativedelta\n",
    "\n",
    "from github_analysis.github.client.users import PullRequestStates\n",
    "from github_analysis.github.service import GitHubService\n",
    "\n",
    "PAGINATION_STEP_AMOUNT = 100\n",
    "FILTER_STATES: list[PullRequestStates] = [\"MERGED\"]\n",
    "NOW = datetime.now(tz=timezone.utc)\n",
    "ONE_YEAR_AGO = NOW - relativedelta(years=1)\n",
    "AGGREGATION_TIME = ONE_YEAR_AGO\n",
    "USERNAME = \"kentcdodds\"\n",
    "\n",
    "github_service = GitHubService()\n",
    "\n",
    "(\n",
    "    pull_request_reviews,\n",
    "    merged_pull_requests,\n",
    ") = await github_service.get_users_reviews_and_pull_requests(\n",
    "    username=USERNAME,\n",
    "    pagination_step_amount=PAGINATION_STEP_AMOUNT,\n",
    "    from_date=AGGREGATION_TIME,\n",
    "    pull_request_states=FILTER_STATES,\n",
    ")"
   ]
  },
  {
   "cell_type": "code",
   "execution_count": 2,
   "metadata": {},
   "outputs": [
    {
     "data": {
      "text/html": [
       "<div><style>\n",
       ".dataframe > thead > tr,\n",
       ".dataframe > tbody > tr {\n",
       "  text-align: right;\n",
       "  white-space: pre-wrap;\n",
       "}\n",
       "</style>\n",
       "<small>shape: (18, 2)</small><table border=\"1\" class=\"dataframe\"><thead><tr><th>repository_name</th><th>amount_of_pull_requests</th></tr><tr><td>str</td><td>u32</td></tr></thead><tbody><tr><td>&quot;skillrecordings/products&quot;</td><td>20</td></tr><tr><td>&quot;epicweb-dev/pixel-perfect-tail…</td><td>5</td></tr><tr><td>&quot;epicweb-dev/testing-fundamenta…</td><td>5</td></tr><tr><td>&quot;epicweb-dev/epic-stack&quot;</td><td>3</td></tr><tr><td>&quot;inngest/website&quot;</td><td>2</td></tr><tr><td>&hellip;</td><td>&hellip;</td></tr><tr><td>&quot;epicweb-dev/react-hooks&quot;</td><td>1</td></tr><tr><td>&quot;kentcdodds/kentcdodds.com&quot;</td><td>1</td></tr><tr><td>&quot;mjackson/multipart-parser&quot;</td><td>1</td></tr><tr><td>&quot;epicweb-dev/epicshop&quot;</td><td>1</td></tr><tr><td>&quot;kentcdodds/testing-react-apps&quot;</td><td>1</td></tr></tbody></table></div>"
      ],
      "text/plain": [
       "shape: (18, 2)\n",
       "┌─────────────────────────────────┬─────────────────────────┐\n",
       "│ repository_name                 ┆ amount_of_pull_requests │\n",
       "│ ---                             ┆ ---                     │\n",
       "│ str                             ┆ u32                     │\n",
       "╞═════════════════════════════════╪═════════════════════════╡\n",
       "│ skillrecordings/products        ┆ 20                      │\n",
       "│ epicweb-dev/pixel-perfect-tail… ┆ 5                       │\n",
       "│ epicweb-dev/testing-fundamenta… ┆ 5                       │\n",
       "│ epicweb-dev/epic-stack          ┆ 3                       │\n",
       "│ inngest/website                 ┆ 2                       │\n",
       "│ …                               ┆ …                       │\n",
       "│ epicweb-dev/react-hooks         ┆ 1                       │\n",
       "│ kentcdodds/kentcdodds.com       ┆ 1                       │\n",
       "│ mjackson/multipart-parser       ┆ 1                       │\n",
       "│ epicweb-dev/epicshop            ┆ 1                       │\n",
       "│ kentcdodds/testing-react-apps   ┆ 1                       │\n",
       "└─────────────────────────────────┴─────────────────────────┘"
      ]
     },
     "execution_count": 2,
     "metadata": {},
     "output_type": "execute_result"
    }
   ],
   "source": [
    "from github_analysis.data_frame_processing import (\n",
    "    group_pull_requests_by_repositories,\n",
    "    pull_requests_as_data_frame,\n",
    ")\n",
    "\n",
    "merged_pull_requests_data_frame = pull_requests_as_data_frame(\n",
    "    pull_requests=merged_pull_requests\n",
    ")\n",
    "grouped_merged_pull_requests = group_pull_requests_by_repositories(\n",
    "    pull_requests=merged_pull_requests_data_frame\n",
    ")\n",
    "grouped_merged_pull_requests"
   ]
  },
  {
   "cell_type": "code",
   "execution_count": 3,
   "metadata": {},
   "outputs": [],
   "source": [
    "from github_analysis.data_frame_processing import pull_request_reviews_as_data_frame\n",
    "\n",
    "pull_request_reviews_data_frame = pull_request_reviews_as_data_frame(\n",
    "    pull_request_reviews=pull_request_reviews\n",
    ")"
   ]
  },
  {
   "cell_type": "code",
   "execution_count": 4,
   "metadata": {},
   "outputs": [
    {
     "data": {
      "text/html": [
       "<div><style>\n",
       ".dataframe > thead > tr,\n",
       ".dataframe > tbody > tr {\n",
       "  text-align: right;\n",
       "  white-space: pre-wrap;\n",
       "}\n",
       "</style>\n",
       "<small>shape: (26, 2)</small><table border=\"1\" class=\"dataframe\"><thead><tr><th>repository_name</th><th>amount_of_reviews</th></tr><tr><td>str</td><td>u32</td></tr></thead><tbody><tr><td>&quot;epicweb-dev/epic-stack&quot;</td><td>96</td></tr><tr><td>&quot;epicweb-dev/full-stack-foundat…</td><td>38</td></tr><tr><td>&quot;epicweb-dev/data-modeling&quot;</td><td>33</td></tr><tr><td>&quot;epicweb-dev/web-auth&quot;</td><td>30</td></tr><tr><td>&quot;kentcdodds/kentcdodds.com&quot;</td><td>29</td></tr><tr><td>&hellip;</td><td>&hellip;</td></tr><tr><td>&quot;kentcdodds/the-webs-next-trans…</td><td>1</td></tr><tr><td>&quot;kentcdodds/advanced-react-patt…</td><td>1</td></tr><tr><td>&quot;epicweb-dev/pixel-perfect-tail…</td><td>1</td></tr><tr><td>&quot;epicweb-dev/remember&quot;</td><td>1</td></tr><tr><td>&quot;epicweb-dev/gratitext&quot;</td><td>1</td></tr></tbody></table></div>"
      ],
      "text/plain": [
       "shape: (26, 2)\n",
       "┌─────────────────────────────────┬───────────────────┐\n",
       "│ repository_name                 ┆ amount_of_reviews │\n",
       "│ ---                             ┆ ---               │\n",
       "│ str                             ┆ u32               │\n",
       "╞═════════════════════════════════╪═══════════════════╡\n",
       "│ epicweb-dev/epic-stack          ┆ 96                │\n",
       "│ epicweb-dev/full-stack-foundat… ┆ 38                │\n",
       "│ epicweb-dev/data-modeling       ┆ 33                │\n",
       "│ epicweb-dev/web-auth            ┆ 30                │\n",
       "│ kentcdodds/kentcdodds.com       ┆ 29                │\n",
       "│ …                               ┆ …                 │\n",
       "│ kentcdodds/the-webs-next-trans… ┆ 1                 │\n",
       "│ kentcdodds/advanced-react-patt… ┆ 1                 │\n",
       "│ epicweb-dev/pixel-perfect-tail… ┆ 1                 │\n",
       "│ epicweb-dev/remember            ┆ 1                 │\n",
       "│ epicweb-dev/gratitext           ┆ 1                 │\n",
       "└─────────────────────────────────┴───────────────────┘"
      ]
     },
     "execution_count": 4,
     "metadata": {},
     "output_type": "execute_result"
    }
   ],
   "source": [
    "from github_analysis.data_frame_processing import (\n",
    "    group_pull_request_reviews_by_repositories,\n",
    ")\n",
    "\n",
    "grouped_pull_request_reviews = group_pull_request_reviews_by_repositories(\n",
    "    pull_request_reviews=pull_request_reviews_data_frame\n",
    ")\n",
    "grouped_pull_request_reviews"
   ]
  },
  {
   "cell_type": "code",
   "execution_count": 5,
   "metadata": {},
   "outputs": [
    {
     "data": {
      "text/html": [
       "<div><style>\n",
       ".dataframe > thead > tr,\n",
       ".dataframe > tbody > tr {\n",
       "  text-align: right;\n",
       "  white-space: pre-wrap;\n",
       "}\n",
       "</style>\n",
       "<small>shape: (2, 2)</small><table border=\"1\" class=\"dataframe\"><thead><tr><th>stat</th><th>totals</th></tr><tr><td>str</td><td>i64</td></tr></thead><tbody><tr><td>&quot;pull_request_reviews&quot;</td><td>354</td></tr><tr><td>&quot;pull_requests&quot;</td><td>49</td></tr></tbody></table></div>"
      ],
      "text/plain": [
       "shape: (2, 2)\n",
       "┌──────────────────────┬────────┐\n",
       "│ stat                 ┆ totals │\n",
       "│ ---                  ┆ ---    │\n",
       "│ str                  ┆ i64    │\n",
       "╞══════════════════════╪════════╡\n",
       "│ pull_request_reviews ┆ 354    │\n",
       "│ pull_requests        ┆ 49     │\n",
       "└──────────────────────┴────────┘"
      ]
     },
     "execution_count": 5,
     "metadata": {},
     "output_type": "execute_result"
    }
   ],
   "source": [
    "from github_analysis.data_frame_processing import process_total_stats\n",
    "\n",
    "process_total_stats(\n",
    "    grouped_pull_request_reviews=grouped_pull_request_reviews,\n",
    "    grouped_merged_pull_requests=grouped_merged_pull_requests,\n",
    ")"
   ]
  },
  {
   "cell_type": "code",
   "execution_count": 6,
   "metadata": {},
   "outputs": [
    {
     "data": {
      "text/html": [
       "<div><style>\n",
       ".dataframe > thead > tr,\n",
       ".dataframe > tbody > tr {\n",
       "  text-align: right;\n",
       "  white-space: pre-wrap;\n",
       "}\n",
       "</style>\n",
       "<small>shape: (252, 2)</small><table border=\"1\" class=\"dataframe\"><thead><tr><th>pull_request_author</th><th>pull_request_reviews_given</th></tr><tr><td>str</td><td>u32</td></tr></thead><tbody><tr><td>&quot;moelzanaty3&quot;</td><td>14</td></tr><tr><td>&quot;HelpMe-Pls&quot;</td><td>13</td></tr><tr><td>&quot;Creeland&quot;</td><td>11</td></tr><tr><td>&quot;justin48&quot;</td><td>10</td></tr><tr><td>&quot;sevignator&quot;</td><td>10</td></tr><tr><td>&hellip;</td><td>&hellip;</td></tr><tr><td>&quot;JLarky&quot;</td><td>1</td></tr><tr><td>&quot;Insidiae&quot;</td><td>1</td></tr><tr><td>&quot;lamson-dev&quot;</td><td>1</td></tr><tr><td>&quot;GreyTearsDev&quot;</td><td>1</td></tr><tr><td>&quot;areudev&quot;</td><td>1</td></tr></tbody></table></div>"
      ],
      "text/plain": [
       "shape: (252, 2)\n",
       "┌─────────────────────┬────────────────────────────┐\n",
       "│ pull_request_author ┆ pull_request_reviews_given │\n",
       "│ ---                 ┆ ---                        │\n",
       "│ str                 ┆ u32                        │\n",
       "╞═════════════════════╪════════════════════════════╡\n",
       "│ moelzanaty3         ┆ 14                         │\n",
       "│ HelpMe-Pls          ┆ 13                         │\n",
       "│ Creeland            ┆ 11                         │\n",
       "│ justin48            ┆ 10                         │\n",
       "│ sevignator          ┆ 10                         │\n",
       "│ …                   ┆ …                          │\n",
       "│ JLarky              ┆ 1                          │\n",
       "│ Insidiae            ┆ 1                          │\n",
       "│ lamson-dev          ┆ 1                          │\n",
       "│ GreyTearsDev        ┆ 1                          │\n",
       "│ areudev             ┆ 1                          │\n",
       "└─────────────────────┴────────────────────────────┘"
      ]
     },
     "execution_count": 6,
     "metadata": {},
     "output_type": "execute_result"
    }
   ],
   "source": [
    "from github_analysis.data_frame_processing import reviews_given_to_user\n",
    "\n",
    "reviews_given_to_user(pull_request_reviews=pull_request_reviews_data_frame)"
   ]
  },
  {
   "cell_type": "code",
   "execution_count": 7,
   "metadata": {},
   "outputs": [
    {
     "data": {
      "text/html": [
       "<div><style>\n",
       ".dataframe > thead > tr,\n",
       ".dataframe > tbody > tr {\n",
       "  text-align: right;\n",
       "  white-space: pre-wrap;\n",
       "}\n",
       "</style>\n",
       "<small>shape: (22, 2)</small><table border=\"1\" class=\"dataframe\"><thead><tr><th>reviewer</th><th>reviews_given</th></tr><tr><td>str</td><td>u32</td></tr></thead><tbody><tr><td>&quot;vojtaholik&quot;</td><td>12</td></tr><tr><td>&quot;joelhooks&quot;</td><td>9</td></tr><tr><td>&quot;kettanaito&quot;</td><td>6</td></tr><tr><td>&quot;simonswiss&quot;</td><td>5</td></tr><tr><td>&quot;rickhanlonii&quot;</td><td>1</td></tr><tr><td>&hellip;</td><td>&hellip;</td></tr><tr><td>&quot;MichaelDeBoey&quot;</td><td>1</td></tr><tr><td>&quot;patak-dev&quot;</td><td>1</td></tr><tr><td>&quot;machour&quot;</td><td>1</td></tr><tr><td>&quot;pcattori&quot;</td><td>1</td></tr><tr><td>&quot;brophdawg11&quot;</td><td>1</td></tr></tbody></table></div>"
      ],
      "text/plain": [
       "shape: (22, 2)\n",
       "┌───────────────┬───────────────┐\n",
       "│ reviewer      ┆ reviews_given │\n",
       "│ ---           ┆ ---           │\n",
       "│ str           ┆ u32           │\n",
       "╞═══════════════╪═══════════════╡\n",
       "│ vojtaholik    ┆ 12            │\n",
       "│ joelhooks     ┆ 9             │\n",
       "│ kettanaito    ┆ 6             │\n",
       "│ simonswiss    ┆ 5             │\n",
       "│ rickhanlonii  ┆ 1             │\n",
       "│ …             ┆ …             │\n",
       "│ MichaelDeBoey ┆ 1             │\n",
       "│ patak-dev     ┆ 1             │\n",
       "│ machour       ┆ 1             │\n",
       "│ pcattori      ┆ 1             │\n",
       "│ brophdawg11   ┆ 1             │\n",
       "└───────────────┴───────────────┘"
      ]
     },
     "execution_count": 7,
     "metadata": {},
     "output_type": "execute_result"
    }
   ],
   "source": [
    "from github_analysis.data_frame_processing import reviews_given_by_users\n",
    "\n",
    "reviews_given_by_users(pull_requests=merged_pull_requests_data_frame)"
   ]
  },
  {
   "cell_type": "code",
   "execution_count": 8,
   "metadata": {},
   "outputs": [
    {
     "data": {
      "image/png": "[encoded data removed]",
      "text/plain": [
       "<Figure size 640x480 with 1 Axes>"
      ]
     },
     "metadata": {},
     "output_type": "display_data"
    }
   ],
   "source": [
    "from github_analysis.data_frame_processing import pull_requests_aggregated_by_month\n",
    "\n",
    "pull_requests_aggregated_by_month_result = pull_requests_aggregated_by_month(\n",
    "    pull_requests=merged_pull_requests_data_frame\n",
    ")\n",
    "\n",
    "(\n",
    "    pull_requests_aggregated_by_month_figure,\n",
    "    pull_requests_aggregated_by_month_figure_axes,\n",
    ") = plt.subplots()\n",
    "pull_requests_aggregated_by_month_figure_axes.bar(\n",
    "    x=pull_requests_aggregated_by_month_result[\"created_at_month\"],\n",
    "    height=pull_requests_aggregated_by_month_result[\"amount_pull_requests\"],\n",
    ")\n",
    "pull_requests_aggregated_by_month_figure_axes.set_ylabel(\n",
    "    \"Amount of pull requests created\"\n",
    ")\n",
    "pull_requests_aggregated_by_month_figure_axes.set_xlabel(\"Month - Year\")\n",
    "plt.show()"
   ]
  }
 ],
 "metadata": {
  "kernelspec": {
   "display_name": ".venv",
   "language": "python",
   "name": "python3"
  },
  "language_info": {
   "codemirror_mode": {
    "name": "ipython",
    "version": 3
   },
   "file_extension": ".py",
   "mimetype": "text/x-python",
   "name": "python",
   "nbconvert_exporter": "python",
   "pygments_lexer": "ipython3",
   "version": "3.12.6"
  }
 },
 "nbformat": 4,
 "nbformat_minor": 2
}
