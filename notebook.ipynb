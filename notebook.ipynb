{
 "cells": [
  {
   "cell_type": "code",
   "execution_count": 1,
   "metadata": {},
   "outputs": [
    {
     "data": {
      "text/plain": [
       "{'user': {'pullRequests': {'nodes': [{'createdAt': '2019-07-22T13:44:23Z',\n",
       "     'author': {'login': 'kamaal111'}},\n",
       "    {'createdAt': '2019-07-22T13:42:45Z', 'author': {'login': 'kamaal111'}},\n",
       "    {'createdAt': '2019-07-22T13:41:50Z', 'author': {'login': 'kamaal111'}},\n",
       "    {'createdAt': '2019-07-13T09:58:31Z', 'author': {'login': 'kamaal111'}},\n",
       "    {'createdAt': '2019-07-06T19:16:18Z', 'author': {'login': 'kamaal111'}},\n",
       "    {'createdAt': '2019-07-06T13:11:01Z', 'author': {'login': 'kamaal111'}},\n",
       "    {'createdAt': '2019-07-06T12:06:40Z', 'author': {'login': 'kamaal111'}},\n",
       "    {'createdAt': '2019-07-06T10:03:45Z', 'author': {'login': 'kamaal111'}},\n",
       "    {'createdAt': '2019-07-05T14:03:38Z', 'author': {'login': 'kamaal111'}},\n",
       "    {'createdAt': '2019-07-05T12:20:39Z', 'author': {'login': 'kamaal111'}}],\n",
       "   'pageInfo': {'endCursor': 'Y3Vyc29yOnYyOpK5MjAxOS0wNy0wNVQxNDoyMDozOSswMjowMM4RkyU4',\n",
       "    'hasNextPage': False,\n",
       "    'hasPreviousPage': True,\n",
       "    'startCursor': 'Y3Vyc29yOnYyOpK5MjAxOS0wNy0yMlQxNTo0NDoyMyswMjowMM4R3-Rj'},\n",
       "   'totalCount': 1149}}}"
      ]
     },
     "execution_count": 1,
     "metadata": {},
     "output_type": "execute_result"
    }
   ],
   "source": [
    "from github_analysis.github.client.client import GitHubClient\n",
    "\n",
    "await GitHubClient.users.get_pull_requests(\n",
    "    username=\"kamaal111\", filter_states=[\"MERGED\"]\n",
    ")"
   ]
  }
 ],
 "metadata": {
  "kernelspec": {
   "display_name": ".venv",
   "language": "python",
   "name": "python3"
  },
  "language_info": {
   "codemirror_mode": {
    "name": "ipython",
    "version": 3
   },
   "file_extension": ".py",
   "mimetype": "text/x-python",
   "name": "python",
   "nbconvert_exporter": "python",
   "pygments_lexer": "ipython3",
   "version": "3.12.6"
  }
 },
 "nbformat": 4,
 "nbformat_minor": 2
}
