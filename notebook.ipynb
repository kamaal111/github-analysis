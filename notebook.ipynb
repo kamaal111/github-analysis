{
 "cells": [
  {
   "cell_type": "code",
   "execution_count": 1,
   "metadata": {},
   "outputs": [],
   "source": [
    "from datetime import datetime, timezone\n",
    "\n",
    "from dateutil.relativedelta import relativedelta\n",
    "\n",
    "from github_analysis.data_frame_processing import (\n",
    "    group_pull_requests_by_repositories,\n",
    "    pull_request_reviews_as_data_frame,\n",
    "    pull_requests_as_data_frame,\n",
    ")\n",
    "from github_analysis.github.client.users import PullRequestStates\n",
    "from github_analysis.github.service import GitHubService\n",
    "\n",
    "PAGINATION_STEP_AMOUNT = 100\n",
    "FILTER_STATES: list[PullRequestStates] = [\"MERGED\"]\n",
    "NOW = datetime.now().replace(tzinfo=timezone.utc)\n",
    "ONE_MONTH_AGO = NOW - relativedelta(months=1)\n",
    "AGGREGATION_TIME = ONE_MONTH_AGO\n",
    "USERNAME = \"kentcdodds\"\n",
    "\n",
    "github_service = GitHubService()\n",
    "\n",
    "(\n",
    "    pull_request_reviews,\n",
    "    merged_pull_requests,\n",
    ") = await github_service.get_users_reviews_and_pull_requests(\n",
    "    username=USERNAME,\n",
    "    pagination_step_amount=PAGINATION_STEP_AMOUNT,\n",
    "    from_date=AGGREGATION_TIME,\n",
    "    pull_request_states=FILTER_STATES,\n",
    ")"
   ]
  },
  {
   "cell_type": "code",
   "execution_count": 2,
   "metadata": {},
   "outputs": [
    {
     "data": {
      "text/html": [
       "<div><style>\n",
       ".dataframe > thead > tr,\n",
       ".dataframe > tbody > tr {\n",
       "  text-align: right;\n",
       "  white-space: pre-wrap;\n",
       "}\n",
       "</style>\n",
       "<small>shape: (7, 4)</small><table border=\"1\" class=\"dataframe\"><thead><tr><th>created_at</th><th>pull_request_number</th><th>amount_of_comments</th><th>repository_name</th></tr><tr><td>datetime[μs, UTC]</td><td>str</td><td>i64</td><td>str</td></tr></thead><tbody><tr><td>2024-09-30 16:54:39 UTC</td><td>&quot;#321&quot;</td><td>0</td><td>&quot;kentcdodds/bookshelf&quot;</td></tr><tr><td>2024-09-30 16:53:52 UTC</td><td>&quot;#102&quot;</td><td>0</td><td>&quot;kentcdodds/testing-react-apps&quot;</td></tr><tr><td>2024-09-24 12:50:42 UTC</td><td>&quot;#16&quot;</td><td>0</td><td>&quot;vitejs/companies-using-vite&quot;</td></tr><tr><td>2024-09-21 14:56:44 UTC</td><td>&quot;#1735&quot;</td><td>1</td><td>&quot;skillrecordings/products&quot;</td></tr><tr><td>2024-09-19 18:59:22 UTC</td><td>&quot;#1729&quot;</td><td>1</td><td>&quot;skillrecordings/products&quot;</td></tr><tr><td>2024-09-10 17:15:01 UTC</td><td>&quot;#1715&quot;</td><td>1</td><td>&quot;skillrecordings/products&quot;</td></tr><tr><td>2024-09-09 22:48:19 UTC</td><td>&quot;#217&quot;</td><td>0</td><td>&quot;epicweb-dev/epicshop&quot;</td></tr></tbody></table></div>"
      ],
      "text/plain": [
       "shape: (7, 4)\n",
       "┌─────────────────────────┬─────────────────────┬────────────────────┬─────────────────────────────┐\n",
       "│ created_at              ┆ pull_request_number ┆ amount_of_comments ┆ repository_name             │\n",
       "│ ---                     ┆ ---                 ┆ ---                ┆ ---                         │\n",
       "│ datetime[μs, UTC]       ┆ str                 ┆ i64                ┆ str                         │\n",
       "╞═════════════════════════╪═════════════════════╪════════════════════╪═════════════════════════════╡\n",
       "│ 2024-09-30 16:54:39 UTC ┆ #321                ┆ 0                  ┆ kentcdodds/bookshelf        │\n",
       "│ 2024-09-30 16:53:52 UTC ┆ #102                ┆ 0                  ┆ kentcdodds/testing-react-ap │\n",
       "│                         ┆                     ┆                    ┆ ps                          │\n",
       "│ 2024-09-24 12:50:42 UTC ┆ #16                 ┆ 0                  ┆ vitejs/companies-using-vite │\n",
       "│ 2024-09-21 14:56:44 UTC ┆ #1735               ┆ 1                  ┆ skillrecordings/products    │\n",
       "│ 2024-09-19 18:59:22 UTC ┆ #1729               ┆ 1                  ┆ skillrecordings/products    │\n",
       "│ 2024-09-10 17:15:01 UTC ┆ #1715               ┆ 1                  ┆ skillrecordings/products    │\n",
       "│ 2024-09-09 22:48:19 UTC ┆ #217                ┆ 0                  ┆ epicweb-dev/epicshop        │\n",
       "└─────────────────────────┴─────────────────────┴────────────────────┴─────────────────────────────┘"
      ]
     },
     "execution_count": 2,
     "metadata": {},
     "output_type": "execute_result"
    }
   ],
   "source": [
    "merged_pull_requests_data_frame = pull_requests_as_data_frame(\n",
    "    pull_requests=merged_pull_requests\n",
    ")\n",
    "merged_pull_requests_data_frame"
   ]
  },
  {
   "cell_type": "code",
   "execution_count": 3,
   "metadata": {},
   "outputs": [
    {
     "data": {
      "text/html": [
       "<div><style>\n",
       ".dataframe > thead > tr,\n",
       ".dataframe > tbody > tr {\n",
       "  text-align: right;\n",
       "  white-space: pre-wrap;\n",
       "}\n",
       "</style>\n",
       "<small>shape: (5, 2)</small><table border=\"1\" class=\"dataframe\"><thead><tr><th>repository_name</th><th>amount_of_pull_requests</th></tr><tr><td>str</td><td>u32</td></tr></thead><tbody><tr><td>&quot;skillrecordings/products&quot;</td><td>3</td></tr><tr><td>&quot;kentcdodds/bookshelf&quot;</td><td>1</td></tr><tr><td>&quot;vitejs/companies-using-vite&quot;</td><td>1</td></tr><tr><td>&quot;epicweb-dev/epicshop&quot;</td><td>1</td></tr><tr><td>&quot;kentcdodds/testing-react-apps&quot;</td><td>1</td></tr></tbody></table></div>"
      ],
      "text/plain": [
       "shape: (5, 2)\n",
       "┌───────────────────────────────┬─────────────────────────┐\n",
       "│ repository_name               ┆ amount_of_pull_requests │\n",
       "│ ---                           ┆ ---                     │\n",
       "│ str                           ┆ u32                     │\n",
       "╞═══════════════════════════════╪═════════════════════════╡\n",
       "│ skillrecordings/products      ┆ 3                       │\n",
       "│ kentcdodds/bookshelf          ┆ 1                       │\n",
       "│ vitejs/companies-using-vite   ┆ 1                       │\n",
       "│ epicweb-dev/epicshop          ┆ 1                       │\n",
       "│ kentcdodds/testing-react-apps ┆ 1                       │\n",
       "└───────────────────────────────┴─────────────────────────┘"
      ]
     },
     "execution_count": 3,
     "metadata": {},
     "output_type": "execute_result"
    }
   ],
   "source": [
    "grouped_merged_pull_requests = group_pull_requests_by_repositories(\n",
    "    pull_requests=merged_pull_requests_data_frame\n",
    ")\n",
    "grouped_merged_pull_requests"
   ]
  },
  {
   "cell_type": "code",
   "execution_count": 4,
   "metadata": {},
   "outputs": [
    {
     "data": {
      "text/html": [
       "<div><style>\n",
       ".dataframe > thead > tr,\n",
       ".dataframe > tbody > tr {\n",
       "  text-align: right;\n",
       "  white-space: pre-wrap;\n",
       "}\n",
       "</style>\n",
       "<small>shape: (0, 0)</small><table border=\"1\" class=\"dataframe\"><thead><tr></tr><tr></tr></thead><tbody></tbody></table></div>"
      ],
      "text/plain": [
       "shape: (0, 0)\n",
       "┌┐\n",
       "╞╡\n",
       "└┘"
      ]
     },
     "execution_count": 4,
     "metadata": {},
     "output_type": "execute_result"
    }
   ],
   "source": [
    "pull_request_reviews_as_data_frame(pull_request_reviews)"
   ]
  }
 ],
 "metadata": {
  "kernelspec": {
   "display_name": ".venv",
   "language": "python",
   "name": "python3"
  },
  "language_info": {
   "codemirror_mode": {
    "name": "ipython",
    "version": 3
   },
   "file_extension": ".py",
   "mimetype": "text/x-python",
   "name": "python",
   "nbconvert_exporter": "python",
   "pygments_lexer": "ipython3",
   "version": "3.12.6"
  }
 },
 "nbformat": 4,
 "nbformat_minor": 2
}
