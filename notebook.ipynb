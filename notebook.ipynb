{
 "cells": [
  {
   "cell_type": "code",
   "execution_count": 1,
   "metadata": {},
   "outputs": [],
   "source": [
    "from datetime import datetime, timezone\n",
    "\n",
    "from dateutil.relativedelta import relativedelta\n",
    "\n",
    "from github_analysis.github.client.users import PullRequestStates\n",
    "from github_analysis.github.service import GitHubService\n",
    "\n",
    "PAGINATION_STEP_AMOUNT = 100\n",
    "FILTER_STATES: list[PullRequestStates] = [\"MERGED\"]\n",
    "NOW = datetime.now().replace(tzinfo=timezone.utc)\n",
    "ONE_MONTH_AGO = NOW - relativedelta(months=1)\n",
    "AGGREGATION_TIME = ONE_MONTH_AGO\n",
    "USERNAME = \"kentcdodds\"\n",
    "\n",
    "github_service = GitHubService()\n",
    "\n",
    "(\n",
    "    pull_request_reviews,\n",
    "    merged_pull_requests,\n",
    ") = await github_service.get_users_reviews_and_pull_requests(\n",
    "    username=USERNAME,\n",
    "    pagination_step_amount=PAGINATION_STEP_AMOUNT,\n",
    "    from_date=AGGREGATION_TIME,\n",
    "    pull_request_states=FILTER_STATES,\n",
    ")"
   ]
  },
  {
   "cell_type": "code",
   "execution_count": 2,
   "metadata": {},
   "outputs": [
    {
     "data": {
      "text/html": [
       "<div><style>\n",
       ".dataframe > thead > tr,\n",
       ".dataframe > tbody > tr {\n",
       "  text-align: right;\n",
       "  white-space: pre-wrap;\n",
       "}\n",
       "</style>\n",
       "<small>shape: (7, 4)</small><table border=\"1\" class=\"dataframe\"><thead><tr><th>created_at</th><th>pull_request_number</th><th>amount_of_comments</th><th>repository_name</th></tr><tr><td>datetime[μs, UTC]</td><td>str</td><td>i64</td><td>str</td></tr></thead><tbody><tr><td>2024-09-30 16:54:39 UTC</td><td>&quot;#321&quot;</td><td>0</td><td>&quot;kentcdodds/bookshelf&quot;</td></tr><tr><td>2024-09-30 16:53:52 UTC</td><td>&quot;#102&quot;</td><td>0</td><td>&quot;kentcdodds/testing-react-apps&quot;</td></tr><tr><td>2024-09-24 12:50:42 UTC</td><td>&quot;#16&quot;</td><td>0</td><td>&quot;vitejs/companies-using-vite&quot;</td></tr><tr><td>2024-09-21 14:56:44 UTC</td><td>&quot;#1735&quot;</td><td>1</td><td>&quot;skillrecordings/products&quot;</td></tr><tr><td>2024-09-19 18:59:22 UTC</td><td>&quot;#1729&quot;</td><td>1</td><td>&quot;skillrecordings/products&quot;</td></tr><tr><td>2024-09-10 17:15:01 UTC</td><td>&quot;#1715&quot;</td><td>1</td><td>&quot;skillrecordings/products&quot;</td></tr><tr><td>2024-09-09 22:48:19 UTC</td><td>&quot;#217&quot;</td><td>0</td><td>&quot;epicweb-dev/epicshop&quot;</td></tr></tbody></table></div>"
      ],
      "text/plain": [
       "shape: (7, 4)\n",
       "┌─────────────────────────┬─────────────────────┬────────────────────┬─────────────────────────────┐\n",
       "│ created_at              ┆ pull_request_number ┆ amount_of_comments ┆ repository_name             │\n",
       "│ ---                     ┆ ---                 ┆ ---                ┆ ---                         │\n",
       "│ datetime[μs, UTC]       ┆ str                 ┆ i64                ┆ str                         │\n",
       "╞═════════════════════════╪═════════════════════╪════════════════════╪═════════════════════════════╡\n",
       "│ 2024-09-30 16:54:39 UTC ┆ #321                ┆ 0                  ┆ kentcdodds/bookshelf        │\n",
       "│ 2024-09-30 16:53:52 UTC ┆ #102                ┆ 0                  ┆ kentcdodds/testing-react-ap │\n",
       "│                         ┆                     ┆                    ┆ ps                          │\n",
       "│ 2024-09-24 12:50:42 UTC ┆ #16                 ┆ 0                  ┆ vitejs/companies-using-vite │\n",
       "│ 2024-09-21 14:56:44 UTC ┆ #1735               ┆ 1                  ┆ skillrecordings/products    │\n",
       "│ 2024-09-19 18:59:22 UTC ┆ #1729               ┆ 1                  ┆ skillrecordings/products    │\n",
       "│ 2024-09-10 17:15:01 UTC ┆ #1715               ┆ 1                  ┆ skillrecordings/products    │\n",
       "│ 2024-09-09 22:48:19 UTC ┆ #217                ┆ 0                  ┆ epicweb-dev/epicshop        │\n",
       "└─────────────────────────┴─────────────────────┴────────────────────┴─────────────────────────────┘"
      ]
     },
     "execution_count": 2,
     "metadata": {},
     "output_type": "execute_result"
    }
   ],
   "source": [
    "from github_analysis.data_frame_processing import pull_requests_as_data_frame\n",
    "\n",
    "merged_pull_requests_data_frame = pull_requests_as_data_frame(\n",
    "    pull_requests=merged_pull_requests\n",
    ")\n",
    "merged_pull_requests_data_frame"
   ]
  },
  {
   "cell_type": "code",
   "execution_count": 3,
   "metadata": {},
   "outputs": [
    {
     "data": {
      "text/html": [
       "<div><style>\n",
       ".dataframe > thead > tr,\n",
       ".dataframe > tbody > tr {\n",
       "  text-align: right;\n",
       "  white-space: pre-wrap;\n",
       "}\n",
       "</style>\n",
       "<small>shape: (5, 2)</small><table border=\"1\" class=\"dataframe\"><thead><tr><th>repository_name</th><th>amount_of_pull_requests</th></tr><tr><td>str</td><td>u32</td></tr></thead><tbody><tr><td>&quot;skillrecordings/products&quot;</td><td>3</td></tr><tr><td>&quot;kentcdodds/bookshelf&quot;</td><td>1</td></tr><tr><td>&quot;epicweb-dev/epicshop&quot;</td><td>1</td></tr><tr><td>&quot;vitejs/companies-using-vite&quot;</td><td>1</td></tr><tr><td>&quot;kentcdodds/testing-react-apps&quot;</td><td>1</td></tr></tbody></table></div>"
      ],
      "text/plain": [
       "shape: (5, 2)\n",
       "┌───────────────────────────────┬─────────────────────────┐\n",
       "│ repository_name               ┆ amount_of_pull_requests │\n",
       "│ ---                           ┆ ---                     │\n",
       "│ str                           ┆ u32                     │\n",
       "╞═══════════════════════════════╪═════════════════════════╡\n",
       "│ skillrecordings/products      ┆ 3                       │\n",
       "│ kentcdodds/bookshelf          ┆ 1                       │\n",
       "│ epicweb-dev/epicshop          ┆ 1                       │\n",
       "│ vitejs/companies-using-vite   ┆ 1                       │\n",
       "│ kentcdodds/testing-react-apps ┆ 1                       │\n",
       "└───────────────────────────────┴─────────────────────────┘"
      ]
     },
     "execution_count": 3,
     "metadata": {},
     "output_type": "execute_result"
    }
   ],
   "source": [
    "from github_analysis.data_frame_processing import group_pull_requests_by_repositories\n",
    "\n",
    "grouped_merged_pull_requests = group_pull_requests_by_repositories(\n",
    "    pull_requests=merged_pull_requests_data_frame\n",
    ")\n",
    "grouped_merged_pull_requests"
   ]
  },
  {
   "cell_type": "code",
   "execution_count": 4,
   "metadata": {},
   "outputs": [
    {
     "data": {
      "text/html": [
       "<div><style>\n",
       ".dataframe > thead > tr,\n",
       ".dataframe > tbody > tr {\n",
       "  text-align: right;\n",
       "  white-space: pre-wrap;\n",
       "}\n",
       "</style>\n",
       "<small>shape: (513, 5)</small><table border=\"1\" class=\"dataframe\"><thead><tr><th>created_at</th><th>author</th><th>amount_of_comments</th><th>repository_name</th><th>pull_request_number</th></tr><tr><td>datetime[μs, UTC]</td><td>str</td><td>i64</td><td>str</td><td>str</td></tr></thead><tbody><tr><td>2024-10-06 13:17:07 UTC</td><td>&quot;0t4u&quot;</td><td>1</td><td>&quot;epicweb-dev/client-hints&quot;</td><td>&quot;#18&quot;</td></tr><tr><td>2024-10-04 19:06:16 UTC</td><td>&quot;moelzanaty3&quot;</td><td>0</td><td>&quot;epicweb-dev/react-fundamentals&quot;</td><td>&quot;#391&quot;</td></tr><tr><td>2024-10-04 18:40:41 UTC</td><td>&quot;ianjmacintosh&quot;</td><td>0</td><td>&quot;epicweb-dev/react-fundamentals&quot;</td><td>&quot;#390&quot;</td></tr><tr><td>2024-10-04 17:48:59 UTC</td><td>&quot;bensonzachariah&quot;</td><td>0</td><td>&quot;epicweb-dev/react-hooks&quot;</td><td>&quot;#236&quot;</td></tr><tr><td>2024-10-04 00:16:20 UTC</td><td>&quot;homeboundx&quot;</td><td>0</td><td>&quot;epicweb-dev/react-hooks&quot;</td><td>&quot;#235&quot;</td></tr><tr><td>&hellip;</td><td>&hellip;</td><td>&hellip;</td><td>&hellip;</td><td>&hellip;</td></tr><tr><td>2023-10-03 18:46:34 UTC</td><td>&quot;ruisaraiva19&quot;</td><td>1</td><td>&quot;epicweb-dev/epicshop&quot;</td><td>&quot;#145&quot;</td></tr><tr><td>2023-10-02 13:07:50 UTC</td><td>&quot;ractoon&quot;</td><td>0</td><td>&quot;epicweb-dev/react-suspense&quot;</td><td>&quot;#85&quot;</td></tr><tr><td>2023-10-01 11:29:36 UTC</td><td>&quot;kewinzaq1&quot;</td><td>0</td><td>&quot;epicweb-dev/data-modeling&quot;</td><td>&quot;#10&quot;</td></tr><tr><td>2023-09-16 13:09:11 UTC</td><td>&quot;rperon&quot;</td><td>0</td><td>&quot;rperon/epic-stack-with-passkey…</td><td>&quot;#1&quot;</td></tr><tr><td>2023-04-26 02:34:26 UTC</td><td>&quot;MichaelDeBoey&quot;</td><td>2</td><td>&quot;kentcdodds/mdx-bundler&quot;</td><td>&quot;#211&quot;</td></tr></tbody></table></div>"
      ],
      "text/plain": [
       "shape: (513, 5)\n",
       "┌────────────────────┬─────────────────┬───────────────────┬───────────────────┬───────────────────┐\n",
       "│ created_at         ┆ author          ┆ amount_of_comment ┆ repository_name   ┆ pull_request_numb │\n",
       "│ ---                ┆ ---             ┆ s                 ┆ ---               ┆ er                │\n",
       "│ datetime[μs, UTC]  ┆ str             ┆ ---               ┆ str               ┆ ---               │\n",
       "│                    ┆                 ┆ i64               ┆                   ┆ str               │\n",
       "╞════════════════════╪═════════════════╪═══════════════════╪═══════════════════╪═══════════════════╡\n",
       "│ 2024-10-06         ┆ 0t4u            ┆ 1                 ┆ epicweb-dev/clien ┆ #18               │\n",
       "│ 13:17:07 UTC       ┆                 ┆                   ┆ t-hints           ┆                   │\n",
       "│ 2024-10-04         ┆ moelzanaty3     ┆ 0                 ┆ epicweb-dev/react ┆ #391              │\n",
       "│ 19:06:16 UTC       ┆                 ┆                   ┆ -fundamentals     ┆                   │\n",
       "│ 2024-10-04         ┆ ianjmacintosh   ┆ 0                 ┆ epicweb-dev/react ┆ #390              │\n",
       "│ 18:40:41 UTC       ┆                 ┆                   ┆ -fundamentals     ┆                   │\n",
       "│ 2024-10-04         ┆ bensonzachariah ┆ 0                 ┆ epicweb-dev/react ┆ #236              │\n",
       "│ 17:48:59 UTC       ┆                 ┆                   ┆ -hooks            ┆                   │\n",
       "│ 2024-10-04         ┆ homeboundx      ┆ 0                 ┆ epicweb-dev/react ┆ #235              │\n",
       "│ 00:16:20 UTC       ┆                 ┆                   ┆ -hooks            ┆                   │\n",
       "│ …                  ┆ …               ┆ …                 ┆ …                 ┆ …                 │\n",
       "│ 2023-10-03         ┆ ruisaraiva19    ┆ 1                 ┆ epicweb-dev/epics ┆ #145              │\n",
       "│ 18:46:34 UTC       ┆                 ┆                   ┆ hop               ┆                   │\n",
       "│ 2023-10-02         ┆ ractoon         ┆ 0                 ┆ epicweb-dev/react ┆ #85               │\n",
       "│ 13:07:50 UTC       ┆                 ┆                   ┆ -suspense         ┆                   │\n",
       "│ 2023-10-01         ┆ kewinzaq1       ┆ 0                 ┆ epicweb-dev/data- ┆ #10               │\n",
       "│ 11:29:36 UTC       ┆                 ┆                   ┆ modeling          ┆                   │\n",
       "│ 2023-09-16         ┆ rperon          ┆ 0                 ┆ rperon/epic-stack ┆ #1                │\n",
       "│ 13:09:11 UTC       ┆                 ┆                   ┆ -with-passkey…    ┆                   │\n",
       "│ 2023-04-26         ┆ MichaelDeBoey   ┆ 2                 ┆ kentcdodds/mdx-bu ┆ #211              │\n",
       "│ 02:34:26 UTC       ┆                 ┆                   ┆ ndler             ┆                   │\n",
       "└────────────────────┴─────────────────┴───────────────────┴───────────────────┴───────────────────┘"
      ]
     },
     "execution_count": 4,
     "metadata": {},
     "output_type": "execute_result"
    }
   ],
   "source": [
    "from github_analysis.data_frame_processing import pull_request_reviews_as_data_frame\n",
    "\n",
    "pull_request_reviews_data_frame = pull_request_reviews_as_data_frame(\n",
    "    pull_request_reviews=pull_request_reviews\n",
    ")\n",
    "pull_request_reviews_data_frame"
   ]
  },
  {
   "cell_type": "code",
   "execution_count": 5,
   "metadata": {},
   "outputs": [
    {
     "data": {
      "text/html": [
       "<div><style>\n",
       ".dataframe > thead > tr,\n",
       ".dataframe > tbody > tr {\n",
       "  text-align: right;\n",
       "  white-space: pre-wrap;\n",
       "}\n",
       "</style>\n",
       "<small>shape: (28, 2)</small><table border=\"1\" class=\"dataframe\"><thead><tr><th>repository_name</th><th>amount_of_reviews</th></tr><tr><td>str</td><td>u32</td></tr></thead><tbody><tr><td>&quot;epicweb-dev/epic-stack&quot;</td><td>96</td></tr><tr><td>&quot;epicweb-dev/full-stack-foundat…</td><td>40</td></tr><tr><td>&quot;epicweb-dev/data-modeling&quot;</td><td>34</td></tr><tr><td>&quot;epicweb-dev/web-auth&quot;</td><td>31</td></tr><tr><td>&quot;kentcdodds/kentcdodds.com&quot;</td><td>29</td></tr><tr><td>&hellip;</td><td>&hellip;</td></tr><tr><td>&quot;epicweb-dev/pixel-perfect-tail…</td><td>1</td></tr><tr><td>&quot;rperon/epic-stack-with-passkey…</td><td>1</td></tr><tr><td>&quot;kentcdodds/the-webs-next-trans…</td><td>1</td></tr><tr><td>&quot;epicweb-dev/totp&quot;</td><td>1</td></tr><tr><td>&quot;epicweb-dev/config&quot;</td><td>1</td></tr></tbody></table></div>"
      ],
      "text/plain": [
       "shape: (28, 2)\n",
       "┌─────────────────────────────────┬───────────────────┐\n",
       "│ repository_name                 ┆ amount_of_reviews │\n",
       "│ ---                             ┆ ---               │\n",
       "│ str                             ┆ u32               │\n",
       "╞═════════════════════════════════╪═══════════════════╡\n",
       "│ epicweb-dev/epic-stack          ┆ 96                │\n",
       "│ epicweb-dev/full-stack-foundat… ┆ 40                │\n",
       "│ epicweb-dev/data-modeling       ┆ 34                │\n",
       "│ epicweb-dev/web-auth            ┆ 31                │\n",
       "│ kentcdodds/kentcdodds.com       ┆ 29                │\n",
       "│ …                               ┆ …                 │\n",
       "│ epicweb-dev/pixel-perfect-tail… ┆ 1                 │\n",
       "│ rperon/epic-stack-with-passkey… ┆ 1                 │\n",
       "│ kentcdodds/the-webs-next-trans… ┆ 1                 │\n",
       "│ epicweb-dev/totp                ┆ 1                 │\n",
       "│ epicweb-dev/config              ┆ 1                 │\n",
       "└─────────────────────────────────┴───────────────────┘"
      ]
     },
     "execution_count": 5,
     "metadata": {},
     "output_type": "execute_result"
    }
   ],
   "source": [
    "from github_analysis.data_frame_processing import (\n",
    "    group_pull_request_reviews_by_repositories,\n",
    ")\n",
    "\n",
    "grouped_pull_request_reviews = group_pull_request_reviews_by_repositories(\n",
    "    pull_request_reviews=pull_request_reviews_data_frame\n",
    ")\n",
    "grouped_pull_request_reviews"
   ]
  }
 ],
 "metadata": {
  "kernelspec": {
   "display_name": ".venv",
   "language": "python",
   "name": "python3"
  },
  "language_info": {
   "codemirror_mode": {
    "name": "ipython",
    "version": 3
   },
   "file_extension": ".py",
   "mimetype": "text/x-python",
   "name": "python",
   "nbconvert_exporter": "python",
   "pygments_lexer": "ipython3",
   "version": "3.12.6"
  }
 },
 "nbformat": 4,
 "nbformat_minor": 2
}
