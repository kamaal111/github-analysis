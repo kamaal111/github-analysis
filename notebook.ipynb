{
 "cells": [
  {
   "cell_type": "code",
   "execution_count": 1,
   "metadata": {},
   "outputs": [],
   "source": [
    "from datetime import datetime, timezone\n",
    "\n",
    "from dateutil.relativedelta import relativedelta\n",
    "\n",
    "from github_analysis.data_frame_processing import (\n",
    "    group_pull_requests_by_repositories,\n",
    "    users_pull_requests_as_data_frame,\n",
    ")\n",
    "from github_analysis.github.client.users import PullRequestStates\n",
    "from github_analysis.github.service import GitHubService\n",
    "\n",
    "PAGINATION_STEP_AMOUNT = 100\n",
    "FILTER_STATES: list[PullRequestStates] = [\"MERGED\"]\n",
    "NOW = datetime.now().replace(tzinfo=timezone.utc)\n",
    "ONE_YEAR_AGO = NOW - relativedelta(years=1)\n",
    "AGGREGATION_TIME = ONE_YEAR_AGO\n",
    "USERNAME = \"kamaal111\"\n",
    "\n",
    "github_service = GitHubService()"
   ]
  },
  {
   "cell_type": "code",
   "execution_count": 2,
   "metadata": {},
   "outputs": [
    {
     "data": {
      "text/html": [
       "<div><style>\n",
       ".dataframe > thead > tr,\n",
       ".dataframe > tbody > tr {\n",
       "  text-align: right;\n",
       "  white-space: pre-wrap;\n",
       "}\n",
       "</style>\n",
       "<small>shape: (78, 4)</small><table border=\"1\" class=\"dataframe\"><thead><tr><th>created_at</th><th>pull_request_number</th><th>amount_of_comments</th><th>repository_name</th></tr><tr><td>datetime[μs, UTC]</td><td>str</td><td>i64</td><td>str</td></tr></thead><tbody><tr><td>2024-09-14 15:47:26 UTC</td><td>&quot;#2&quot;</td><td>0</td><td>&quot;kamaal111/experiments&quot;</td></tr><tr><td>2024-09-14 15:27:33 UTC</td><td>&quot;#1&quot;</td><td>0</td><td>&quot;kamaal111/experiments&quot;</td></tr><tr><td>2024-09-14 13:16:45 UTC</td><td>&quot;#61&quot;</td><td>0</td><td>&quot;kamaal111/kamaal111.github.io&quot;</td></tr><tr><td>2024-09-02 20:18:42 UTC</td><td>&quot;#6&quot;</td><td>0</td><td>&quot;Kamaalio/Kamaal.ts&quot;</td></tr><tr><td>2024-09-02 19:49:54 UTC</td><td>&quot;#5&quot;</td><td>0</td><td>&quot;Kamaalio/Kamaal.ts&quot;</td></tr><tr><td>&hellip;</td><td>&hellip;</td><td>&hellip;</td><td>&hellip;</td></tr><tr><td>2023-12-02 13:26:01 UTC</td><td>&quot;#57&quot;</td><td>1</td><td>&quot;Kamaalio/KamaalSwift&quot;</td></tr><tr><td>2023-11-28 21:14:27 UTC</td><td>&quot;#55&quot;</td><td>1</td><td>&quot;Kamaalio/KamaalSwift&quot;</td></tr><tr><td>2023-11-11 15:18:14 UTC</td><td>&quot;#225&quot;</td><td>0</td><td>&quot;kamaal111/ColorPicker&quot;</td></tr><tr><td>2023-11-07 19:50:26 UTC</td><td>&quot;#223&quot;</td><td>0</td><td>&quot;kamaal111/ColorPicker&quot;</td></tr><tr><td>2023-11-04 12:54:25 UTC</td><td>&quot;#219&quot;</td><td>0</td><td>&quot;kamaal111/ColorPicker&quot;</td></tr></tbody></table></div>"
      ],
      "text/plain": [
       "shape: (78, 4)\n",
       "┌─────────────────────────┬─────────────────────┬────────────────────┬─────────────────────────────┐\n",
       "│ created_at              ┆ pull_request_number ┆ amount_of_comments ┆ repository_name             │\n",
       "│ ---                     ┆ ---                 ┆ ---                ┆ ---                         │\n",
       "│ datetime[μs, UTC]       ┆ str                 ┆ i64                ┆ str                         │\n",
       "╞═════════════════════════╪═════════════════════╪════════════════════╪═════════════════════════════╡\n",
       "│ 2024-09-14 15:47:26 UTC ┆ #2                  ┆ 0                  ┆ kamaal111/experiments       │\n",
       "│ 2024-09-14 15:27:33 UTC ┆ #1                  ┆ 0                  ┆ kamaal111/experiments       │\n",
       "│ 2024-09-14 13:16:45 UTC ┆ #61                 ┆ 0                  ┆ kamaal111/kamaal111.github. │\n",
       "│                         ┆                     ┆                    ┆ io                          │\n",
       "│ 2024-09-02 20:18:42 UTC ┆ #6                  ┆ 0                  ┆ Kamaalio/Kamaal.ts          │\n",
       "│ 2024-09-02 19:49:54 UTC ┆ #5                  ┆ 0                  ┆ Kamaalio/Kamaal.ts          │\n",
       "│ …                       ┆ …                   ┆ …                  ┆ …                           │\n",
       "│ 2023-12-02 13:26:01 UTC ┆ #57                 ┆ 1                  ┆ Kamaalio/KamaalSwift        │\n",
       "│ 2023-11-28 21:14:27 UTC ┆ #55                 ┆ 1                  ┆ Kamaalio/KamaalSwift        │\n",
       "│ 2023-11-11 15:18:14 UTC ┆ #225                ┆ 0                  ┆ kamaal111/ColorPicker       │\n",
       "│ 2023-11-07 19:50:26 UTC ┆ #223                ┆ 0                  ┆ kamaal111/ColorPicker       │\n",
       "│ 2023-11-04 12:54:25 UTC ┆ #219                ┆ 0                  ┆ kamaal111/ColorPicker       │\n",
       "└─────────────────────────┴─────────────────────┴────────────────────┴─────────────────────────────┘"
      ]
     },
     "execution_count": 2,
     "metadata": {},
     "output_type": "execute_result"
    }
   ],
   "source": [
    "merged_pull_requests = await github_service.get_users_pull_requests(\n",
    "    username=USERNAME,\n",
    "    filter_states=FILTER_STATES,\n",
    "    until=AGGREGATION_TIME,\n",
    "    pagination_step_amount=PAGINATION_STEP_AMOUNT,\n",
    ")\n",
    "merged_pull_requests_data_frame = users_pull_requests_as_data_frame(\n",
    "    users_pull_requests=merged_pull_requests\n",
    ")\n",
    "merged_pull_requests_data_frame"
   ]
  },
  {
   "cell_type": "code",
   "execution_count": 3,
   "metadata": {},
   "outputs": [
    {
     "data": {
      "text/html": [
       "<div><style>\n",
       ".dataframe > thead > tr,\n",
       ".dataframe > tbody > tr {\n",
       "  text-align: right;\n",
       "  white-space: pre-wrap;\n",
       "}\n",
       "</style>\n",
       "<small>shape: (11, 2)</small><table border=\"1\" class=\"dataframe\"><thead><tr><th>repository_name</th><th>amount_of_pull_requests</th></tr><tr><td>str</td><td>u32</td></tr></thead><tbody><tr><td>&quot;kamaal111/OwnStonks&quot;</td><td>29</td></tr><tr><td>&quot;Kamaalio/KamaalSwift&quot;</td><td>19</td></tr><tr><td>&quot;kamaal111/ColorPicker&quot;</td><td>7</td></tr><tr><td>&quot;kamaal111/ForexKit&quot;</td><td>4</td></tr><tr><td>&quot;Kamaalio/Kamaal.ts&quot;</td><td>4</td></tr><tr><td>&hellip;</td><td>&hellip;</td></tr><tr><td>&quot;kamaal111/kamaal111.github.io&quot;</td><td>4</td></tr><tr><td>&quot;kamaal111/MockURLProtocol&quot;</td><td>2</td></tr><tr><td>&quot;kamaal111/experiments&quot;</td><td>2</td></tr><tr><td>&quot;kamaal111/swift-builder&quot;</td><td>2</td></tr><tr><td>&quot;kamaal111/AdventOfCode&quot;</td><td>1</td></tr></tbody></table></div>"
      ],
      "text/plain": [
       "shape: (11, 2)\n",
       "┌───────────────────────────────┬─────────────────────────┐\n",
       "│ repository_name               ┆ amount_of_pull_requests │\n",
       "│ ---                           ┆ ---                     │\n",
       "│ str                           ┆ u32                     │\n",
       "╞═══════════════════════════════╪═════════════════════════╡\n",
       "│ kamaal111/OwnStonks           ┆ 29                      │\n",
       "│ Kamaalio/KamaalSwift          ┆ 19                      │\n",
       "│ kamaal111/ColorPicker         ┆ 7                       │\n",
       "│ kamaal111/ForexKit            ┆ 4                       │\n",
       "│ Kamaalio/Kamaal.ts            ┆ 4                       │\n",
       "│ …                             ┆ …                       │\n",
       "│ kamaal111/kamaal111.github.io ┆ 4                       │\n",
       "│ kamaal111/MockURLProtocol     ┆ 2                       │\n",
       "│ kamaal111/experiments         ┆ 2                       │\n",
       "│ kamaal111/swift-builder       ┆ 2                       │\n",
       "│ kamaal111/AdventOfCode        ┆ 1                       │\n",
       "└───────────────────────────────┴─────────────────────────┘"
      ]
     },
     "execution_count": 3,
     "metadata": {},
     "output_type": "execute_result"
    }
   ],
   "source": [
    "grouped_merged_pull_requests = group_pull_requests_by_repositories(\n",
    "    pull_requests=merged_pull_requests_data_frame\n",
    ")\n",
    "grouped_merged_pull_requests"
   ]
  }
 ],
 "metadata": {
  "kernelspec": {
   "display_name": ".venv",
   "language": "python",
   "name": "python3"
  },
  "language_info": {
   "codemirror_mode": {
    "name": "ipython",
    "version": 3
   },
   "file_extension": ".py",
   "mimetype": "text/x-python",
   "name": "python",
   "nbconvert_exporter": "python",
   "pygments_lexer": "ipython3",
   "version": "3.12.6"
  }
 },
 "nbformat": 4,
 "nbformat_minor": 2
}
