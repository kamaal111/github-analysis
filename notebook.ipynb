{
 "cells": [
  {
   "cell_type": "code",
   "execution_count": 1,
   "metadata": {},
   "outputs": [],
   "source": [
    "from datetime import datetime, timezone\n",
    "\n",
    "from dateutil.relativedelta import relativedelta\n",
    "\n",
    "from github_analysis.github.client.users import PullRequestStates\n",
    "from github_analysis.github.service import GitHubService\n",
    "\n",
    "PAGINATION_STEP_AMOUNT = 100\n",
    "FILTER_STATES: list[PullRequestStates] = [\"MERGED\"]\n",
    "NOW = datetime.now(tz=timezone.utc)\n",
    "ONE_YEAR_AGO = NOW - relativedelta(years=1)\n",
    "AGGREGATION_TIME = ONE_YEAR_AGO\n",
    "USERNAME = \"kentcdodds\"\n",
    "\n",
    "github_service = GitHubService()\n",
    "\n",
    "(\n",
    "    pull_request_reviews,\n",
    "    merged_pull_requests,\n",
    ") = await github_service.get_users_reviews_and_pull_requests(\n",
    "    username=USERNAME,\n",
    "    pagination_step_amount=PAGINATION_STEP_AMOUNT,\n",
    "    from_date=AGGREGATION_TIME,\n",
    "    pull_request_states=FILTER_STATES,\n",
    ")"
   ]
  },
  {
   "cell_type": "code",
   "execution_count": 2,
   "metadata": {},
   "outputs": [
    {
     "data": {
      "text/html": [
       "<div><style>\n",
       ".dataframe > thead > tr,\n",
       ".dataframe > tbody > tr {\n",
       "  text-align: right;\n",
       "  white-space: pre-wrap;\n",
       "}\n",
       "</style>\n",
       "<small>shape: (18, 2)</small><table border=\"1\" class=\"dataframe\"><thead><tr><th>repository_name</th><th>amount_of_pull_requests</th></tr><tr><td>str</td><td>u32</td></tr></thead><tbody><tr><td>&quot;skillrecordings/products&quot;</td><td>20</td></tr><tr><td>&quot;epicweb-dev/testing-fundamenta…</td><td>5</td></tr><tr><td>&quot;epicweb-dev/pixel-perfect-tail…</td><td>5</td></tr><tr><td>&quot;epicweb-dev/epic-stack&quot;</td><td>3</td></tr><tr><td>&quot;inngest/website&quot;</td><td>2</td></tr><tr><td>&hellip;</td><td>&hellip;</td></tr><tr><td>&quot;kentcdodds/mdx-bundler&quot;</td><td>1</td></tr><tr><td>&quot;epicweb-dev/epicshop&quot;</td><td>1</td></tr><tr><td>&quot;partykit/partykit&quot;</td><td>1</td></tr><tr><td>&quot;mjackson/multipart-parser&quot;</td><td>1</td></tr><tr><td>&quot;vitejs/companies-using-vite&quot;</td><td>1</td></tr></tbody></table></div>"
      ],
      "text/plain": [
       "shape: (18, 2)\n",
       "┌─────────────────────────────────┬─────────────────────────┐\n",
       "│ repository_name                 ┆ amount_of_pull_requests │\n",
       "│ ---                             ┆ ---                     │\n",
       "│ str                             ┆ u32                     │\n",
       "╞═════════════════════════════════╪═════════════════════════╡\n",
       "│ skillrecordings/products        ┆ 20                      │\n",
       "│ epicweb-dev/testing-fundamenta… ┆ 5                       │\n",
       "│ epicweb-dev/pixel-perfect-tail… ┆ 5                       │\n",
       "│ epicweb-dev/epic-stack          ┆ 3                       │\n",
       "│ inngest/website                 ┆ 2                       │\n",
       "│ …                               ┆ …                       │\n",
       "│ kentcdodds/mdx-bundler          ┆ 1                       │\n",
       "│ epicweb-dev/epicshop            ┆ 1                       │\n",
       "│ partykit/partykit               ┆ 1                       │\n",
       "│ mjackson/multipart-parser       ┆ 1                       │\n",
       "│ vitejs/companies-using-vite     ┆ 1                       │\n",
       "└─────────────────────────────────┴─────────────────────────┘"
      ]
     },
     "execution_count": 2,
     "metadata": {},
     "output_type": "execute_result"
    }
   ],
   "source": [
    "from github_analysis.data_frame_processing import (\n",
    "    group_pull_requests_by_repositories,\n",
    "    pull_requests_as_data_frame,\n",
    ")\n",
    "\n",
    "merged_pull_requests_data_frame = pull_requests_as_data_frame(\n",
    "    pull_requests=merged_pull_requests\n",
    ")\n",
    "grouped_merged_pull_requests = group_pull_requests_by_repositories(\n",
    "    pull_requests=merged_pull_requests_data_frame\n",
    ")\n",
    "grouped_merged_pull_requests"
   ]
  },
  {
   "cell_type": "code",
   "execution_count": 3,
   "metadata": {},
   "outputs": [],
   "source": [
    "from github_analysis.data_frame_processing import pull_request_reviews_as_data_frame\n",
    "\n",
    "pull_request_reviews_data_frame = pull_request_reviews_as_data_frame(\n",
    "    pull_request_reviews=pull_request_reviews\n",
    ")"
   ]
  },
  {
   "cell_type": "code",
   "execution_count": 4,
   "metadata": {},
   "outputs": [
    {
     "data": {
      "text/html": [
       "<div><style>\n",
       ".dataframe > thead > tr,\n",
       ".dataframe > tbody > tr {\n",
       "  text-align: right;\n",
       "  white-space: pre-wrap;\n",
       "}\n",
       "</style>\n",
       "<small>shape: (26, 2)</small><table border=\"1\" class=\"dataframe\"><thead><tr><th>repository_name</th><th>amount_of_reviews</th></tr><tr><td>str</td><td>u32</td></tr></thead><tbody><tr><td>&quot;epicweb-dev/epic-stack&quot;</td><td>96</td></tr><tr><td>&quot;epicweb-dev/full-stack-foundat…</td><td>38</td></tr><tr><td>&quot;epicweb-dev/data-modeling&quot;</td><td>33</td></tr><tr><td>&quot;epicweb-dev/web-auth&quot;</td><td>30</td></tr><tr><td>&quot;kentcdodds/kentcdodds.com&quot;</td><td>29</td></tr><tr><td>&hellip;</td><td>&hellip;</td></tr><tr><td>&quot;epicweb-dev/totp&quot;</td><td>1</td></tr><tr><td>&quot;epicweb-dev/gratitext&quot;</td><td>1</td></tr><tr><td>&quot;kentcdodds/advanced-react-patt…</td><td>1</td></tr><tr><td>&quot;epicweb-dev/remember&quot;</td><td>1</td></tr><tr><td>&quot;kentcdodds/the-webs-next-trans…</td><td>1</td></tr></tbody></table></div>"
      ],
      "text/plain": [
       "shape: (26, 2)\n",
       "┌─────────────────────────────────┬───────────────────┐\n",
       "│ repository_name                 ┆ amount_of_reviews │\n",
       "│ ---                             ┆ ---               │\n",
       "│ str                             ┆ u32               │\n",
       "╞═════════════════════════════════╪═══════════════════╡\n",
       "│ epicweb-dev/epic-stack          ┆ 96                │\n",
       "│ epicweb-dev/full-stack-foundat… ┆ 38                │\n",
       "│ epicweb-dev/data-modeling       ┆ 33                │\n",
       "│ epicweb-dev/web-auth            ┆ 30                │\n",
       "│ kentcdodds/kentcdodds.com       ┆ 29                │\n",
       "│ …                               ┆ …                 │\n",
       "│ epicweb-dev/totp                ┆ 1                 │\n",
       "│ epicweb-dev/gratitext           ┆ 1                 │\n",
       "│ kentcdodds/advanced-react-patt… ┆ 1                 │\n",
       "│ epicweb-dev/remember            ┆ 1                 │\n",
       "│ kentcdodds/the-webs-next-trans… ┆ 1                 │\n",
       "└─────────────────────────────────┴───────────────────┘"
      ]
     },
     "execution_count": 4,
     "metadata": {},
     "output_type": "execute_result"
    }
   ],
   "source": [
    "from github_analysis.data_frame_processing import (\n",
    "    group_pull_request_reviews_by_repositories,\n",
    ")\n",
    "\n",
    "grouped_pull_request_reviews = group_pull_request_reviews_by_repositories(\n",
    "    pull_request_reviews=pull_request_reviews_data_frame\n",
    ")\n",
    "grouped_pull_request_reviews"
   ]
  },
  {
   "cell_type": "code",
   "execution_count": 5,
   "metadata": {},
   "outputs": [
    {
     "data": {
      "text/html": [
       "<div><style>\n",
       ".dataframe > thead > tr,\n",
       ".dataframe > tbody > tr {\n",
       "  text-align: right;\n",
       "  white-space: pre-wrap;\n",
       "}\n",
       "</style>\n",
       "<small>shape: (2, 2)</small><table border=\"1\" class=\"dataframe\"><thead><tr><th>stat</th><th>totals</th></tr><tr><td>str</td><td>i64</td></tr></thead><tbody><tr><td>&quot;pull_request_reviews&quot;</td><td>352</td></tr><tr><td>&quot;pull_requests&quot;</td><td>49</td></tr></tbody></table></div>"
      ],
      "text/plain": [
       "shape: (2, 2)\n",
       "┌──────────────────────┬────────┐\n",
       "│ stat                 ┆ totals │\n",
       "│ ---                  ┆ ---    │\n",
       "│ str                  ┆ i64    │\n",
       "╞══════════════════════╪════════╡\n",
       "│ pull_request_reviews ┆ 352    │\n",
       "│ pull_requests        ┆ 49     │\n",
       "└──────────────────────┴────────┘"
      ]
     },
     "execution_count": 5,
     "metadata": {},
     "output_type": "execute_result"
    }
   ],
   "source": [
    "from github_analysis.data_frame_processing import process_total_stats\n",
    "\n",
    "process_total_stats(\n",
    "    grouped_pull_request_reviews=grouped_pull_request_reviews,\n",
    "    grouped_merged_pull_requests=grouped_merged_pull_requests,\n",
    ")"
   ]
  },
  {
   "cell_type": "code",
   "execution_count": 6,
   "metadata": {},
   "outputs": [
    {
     "data": {
      "text/html": [
       "<div><style>\n",
       ".dataframe > thead > tr,\n",
       ".dataframe > tbody > tr {\n",
       "  text-align: right;\n",
       "  white-space: pre-wrap;\n",
       "}\n",
       "</style>\n",
       "<small>shape: (250, 2)</small><table border=\"1\" class=\"dataframe\"><thead><tr><th>pull_request_author</th><th>pull_request_reviews_given</th></tr><tr><td>str</td><td>u32</td></tr></thead><tbody><tr><td>&quot;moelzanaty3&quot;</td><td>14</td></tr><tr><td>&quot;HelpMe-Pls&quot;</td><td>13</td></tr><tr><td>&quot;Creeland&quot;</td><td>11</td></tr><tr><td>&quot;sevignator&quot;</td><td>10</td></tr><tr><td>&quot;justin48&quot;</td><td>10</td></tr><tr><td>&hellip;</td><td>&hellip;</td></tr><tr><td>&quot;ddolcimascolo&quot;</td><td>1</td></tr><tr><td>&quot;btraut&quot;</td><td>1</td></tr><tr><td>&quot;JLarky&quot;</td><td>1</td></tr><tr><td>&quot;jporfirio&quot;</td><td>1</td></tr><tr><td>&quot;bensonzachariah&quot;</td><td>1</td></tr></tbody></table></div>"
      ],
      "text/plain": [
       "shape: (250, 2)\n",
       "┌─────────────────────┬────────────────────────────┐\n",
       "│ pull_request_author ┆ pull_request_reviews_given │\n",
       "│ ---                 ┆ ---                        │\n",
       "│ str                 ┆ u32                        │\n",
       "╞═════════════════════╪════════════════════════════╡\n",
       "│ moelzanaty3         ┆ 14                         │\n",
       "│ HelpMe-Pls          ┆ 13                         │\n",
       "│ Creeland            ┆ 11                         │\n",
       "│ sevignator          ┆ 10                         │\n",
       "│ justin48            ┆ 10                         │\n",
       "│ …                   ┆ …                          │\n",
       "│ ddolcimascolo       ┆ 1                          │\n",
       "│ btraut              ┆ 1                          │\n",
       "│ JLarky              ┆ 1                          │\n",
       "│ jporfirio           ┆ 1                          │\n",
       "│ bensonzachariah     ┆ 1                          │\n",
       "└─────────────────────┴────────────────────────────┘"
      ]
     },
     "execution_count": 6,
     "metadata": {},
     "output_type": "execute_result"
    }
   ],
   "source": [
    "from github_analysis.data_frame_processing import reviews_given_to_user\n",
    "\n",
    "reviews_given_to_user(pull_request_reviews=pull_request_reviews_data_frame)"
   ]
  },
  {
   "cell_type": "code",
   "execution_count": 7,
   "metadata": {},
   "outputs": [
    {
     "data": {
      "text/html": [
       "<div><style>\n",
       ".dataframe > thead > tr,\n",
       ".dataframe > tbody > tr {\n",
       "  text-align: right;\n",
       "  white-space: pre-wrap;\n",
       "}\n",
       "</style>\n",
       "<small>shape: (9, 2)</small><table border=\"1\" class=\"dataframe\"><thead><tr><th>created_at_month</th><th>amount_pull_requests</th></tr><tr><td>str</td><td>u32</td></tr></thead><tbody><tr><td>&quot;9-2024&quot;</td><td>7</td></tr><tr><td>&quot;8-2024&quot;</td><td>6</td></tr><tr><td>&quot;7-2024&quot;</td><td>6</td></tr><tr><td>&quot;6-2024&quot;</td><td>4</td></tr><tr><td>&quot;5-2024&quot;</td><td>2</td></tr><tr><td>&quot;4-2024&quot;</td><td>1</td></tr><tr><td>&quot;2-2024&quot;</td><td>8</td></tr><tr><td>&quot;1-2024&quot;</td><td>6</td></tr><tr><td>&quot;10-2023&quot;</td><td>9</td></tr></tbody></table></div>"
      ],
      "text/plain": [
       "shape: (9, 2)\n",
       "┌──────────────────┬──────────────────────┐\n",
       "│ created_at_month ┆ amount_pull_requests │\n",
       "│ ---              ┆ ---                  │\n",
       "│ str              ┆ u32                  │\n",
       "╞══════════════════╪══════════════════════╡\n",
       "│ 9-2024           ┆ 7                    │\n",
       "│ 8-2024           ┆ 6                    │\n",
       "│ 7-2024           ┆ 6                    │\n",
       "│ 6-2024           ┆ 4                    │\n",
       "│ 5-2024           ┆ 2                    │\n",
       "│ 4-2024           ┆ 1                    │\n",
       "│ 2-2024           ┆ 8                    │\n",
       "│ 1-2024           ┆ 6                    │\n",
       "│ 10-2023          ┆ 9                    │\n",
       "└──────────────────┴──────────────────────┘"
      ]
     },
     "execution_count": 7,
     "metadata": {},
     "output_type": "execute_result"
    }
   ],
   "source": [
    "from github_analysis.data_frame_processing import pull_requests_aggregated_by_month\n",
    "\n",
    "pull_requests_aggregated_by_month(pull_requests=merged_pull_requests_data_frame)"
   ]
  }
 ],
 "metadata": {
  "kernelspec": {
   "display_name": ".venv",
   "language": "python",
   "name": "python3"
  },
  "language_info": {
   "codemirror_mode": {
    "name": "ipython",
    "version": 3
   },
   "file_extension": ".py",
   "mimetype": "text/x-python",
   "name": "python",
   "nbconvert_exporter": "python",
   "pygments_lexer": "ipython3",
   "version": "3.12.6"
  }
 },
 "nbformat": 4,
 "nbformat_minor": 2
}
