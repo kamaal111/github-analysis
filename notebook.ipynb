{
 "cells": [
  {
   "cell_type": "code",
   "execution_count": 1,
   "metadata": {},
   "outputs": [],
   "source": [
    "from datetime import datetime, timezone\n",
    "\n",
    "from dateutil.relativedelta import relativedelta\n",
    "\n",
    "from github_analysis.github.client.users import PullRequestStates\n",
    "from github_analysis.github.service import GitHubService\n",
    "\n",
    "PAGINATION_STEP_AMOUNT = 100\n",
    "FILTER_STATES: list[PullRequestStates] = [\"MERGED\"]\n",
    "NOW = datetime.now(tz=timezone.utc)\n",
    "ONE_YEAR_AGO = NOW - relativedelta(years=1)\n",
    "AGGREGATION_TIME = ONE_YEAR_AGO\n",
    "USERNAME = \"kentcdodds\"\n",
    "\n",
    "github_service = GitHubService()\n",
    "\n",
    "(\n",
    "    pull_request_reviews,\n",
    "    merged_pull_requests,\n",
    ") = await github_service.get_users_reviews_and_pull_requests(\n",
    "    username=USERNAME,\n",
    "    pagination_step_amount=PAGINATION_STEP_AMOUNT,\n",
    "    from_date=AGGREGATION_TIME,\n",
    "    pull_request_states=FILTER_STATES,\n",
    ")"
   ]
  },
  {
   "cell_type": "code",
   "execution_count": 2,
   "metadata": {},
   "outputs": [
    {
     "data": {
      "text/html": [
       "<div><style>\n",
       ".dataframe > thead > tr,\n",
       ".dataframe > tbody > tr {\n",
       "  text-align: right;\n",
       "  white-space: pre-wrap;\n",
       "}\n",
       "</style>\n",
       "<small>shape: (18, 2)</small><table border=\"1\" class=\"dataframe\"><thead><tr><th>repository_name</th><th>amount_of_pull_requests</th></tr><tr><td>str</td><td>u32</td></tr></thead><tbody><tr><td>&quot;skillrecordings/products&quot;</td><td>20</td></tr><tr><td>&quot;epicweb-dev/testing-fundamenta…</td><td>5</td></tr><tr><td>&quot;epicweb-dev/pixel-perfect-tail…</td><td>5</td></tr><tr><td>&quot;epicweb-dev/epic-stack&quot;</td><td>3</td></tr><tr><td>&quot;remix-run/remix&quot;</td><td>2</td></tr><tr><td>&hellip;</td><td>&hellip;</td></tr><tr><td>&quot;kentcdodds/kentcdodds.com&quot;</td><td>1</td></tr><tr><td>&quot;reactjs/react.dev&quot;</td><td>1</td></tr><tr><td>&quot;epicweb-dev/mocking-techniques&quot;</td><td>1</td></tr><tr><td>&quot;kentcdodds/testing-react-apps&quot;</td><td>1</td></tr><tr><td>&quot;kentcdodds/bookshelf&quot;</td><td>1</td></tr></tbody></table></div>"
      ],
      "text/plain": [
       "shape: (18, 2)\n",
       "┌─────────────────────────────────┬─────────────────────────┐\n",
       "│ repository_name                 ┆ amount_of_pull_requests │\n",
       "│ ---                             ┆ ---                     │\n",
       "│ str                             ┆ u32                     │\n",
       "╞═════════════════════════════════╪═════════════════════════╡\n",
       "│ skillrecordings/products        ┆ 20                      │\n",
       "│ epicweb-dev/testing-fundamenta… ┆ 5                       │\n",
       "│ epicweb-dev/pixel-perfect-tail… ┆ 5                       │\n",
       "│ epicweb-dev/epic-stack          ┆ 3                       │\n",
       "│ remix-run/remix                 ┆ 2                       │\n",
       "│ …                               ┆ …                       │\n",
       "│ kentcdodds/kentcdodds.com       ┆ 1                       │\n",
       "│ reactjs/react.dev               ┆ 1                       │\n",
       "│ epicweb-dev/mocking-techniques  ┆ 1                       │\n",
       "│ kentcdodds/testing-react-apps   ┆ 1                       │\n",
       "│ kentcdodds/bookshelf            ┆ 1                       │\n",
       "└─────────────────────────────────┴─────────────────────────┘"
      ]
     },
     "execution_count": 2,
     "metadata": {},
     "output_type": "execute_result"
    }
   ],
   "source": [
    "from github_analysis.data_frame_processing import (\n",
    "    group_pull_requests_by_repositories,\n",
    "    pull_requests_as_data_frame,\n",
    ")\n",
    "\n",
    "merged_pull_requests_data_frame = pull_requests_as_data_frame(\n",
    "    pull_requests=merged_pull_requests\n",
    ")\n",
    "grouped_merged_pull_requests = group_pull_requests_by_repositories(\n",
    "    pull_requests=merged_pull_requests_data_frame\n",
    ")\n",
    "grouped_merged_pull_requests"
   ]
  },
  {
   "cell_type": "code",
   "execution_count": 3,
   "metadata": {},
   "outputs": [
    {
     "data": {
      "text/html": [
       "<div><style>\n",
       ".dataframe > thead > tr,\n",
       ".dataframe > tbody > tr {\n",
       "  text-align: right;\n",
       "  white-space: pre-wrap;\n",
       "}\n",
       "</style>\n",
       "<small>shape: (28, 2)</small><table border=\"1\" class=\"dataframe\"><thead><tr><th>repository_name</th><th>amount_of_reviews</th></tr><tr><td>str</td><td>u32</td></tr></thead><tbody><tr><td>&quot;epicweb-dev/epic-stack&quot;</td><td>96</td></tr><tr><td>&quot;epicweb-dev/full-stack-foundat…</td><td>40</td></tr><tr><td>&quot;epicweb-dev/data-modeling&quot;</td><td>34</td></tr><tr><td>&quot;epicweb-dev/web-auth&quot;</td><td>31</td></tr><tr><td>&quot;kentcdodds/kentcdodds.com&quot;</td><td>29</td></tr><tr><td>&hellip;</td><td>&hellip;</td></tr><tr><td>&quot;epicweb-dev/pixel-perfect-tail…</td><td>1</td></tr><tr><td>&quot;kentcdodds/advanced-react-patt…</td><td>1</td></tr><tr><td>&quot;epicweb-dev/remember&quot;</td><td>1</td></tr><tr><td>&quot;rperon/epic-stack-with-passkey…</td><td>1</td></tr><tr><td>&quot;epicweb-dev/client-hints&quot;</td><td>1</td></tr></tbody></table></div>"
      ],
      "text/plain": [
       "shape: (28, 2)\n",
       "┌─────────────────────────────────┬───────────────────┐\n",
       "│ repository_name                 ┆ amount_of_reviews │\n",
       "│ ---                             ┆ ---               │\n",
       "│ str                             ┆ u32               │\n",
       "╞═════════════════════════════════╪═══════════════════╡\n",
       "│ epicweb-dev/epic-stack          ┆ 96                │\n",
       "│ epicweb-dev/full-stack-foundat… ┆ 40                │\n",
       "│ epicweb-dev/data-modeling       ┆ 34                │\n",
       "│ epicweb-dev/web-auth            ┆ 31                │\n",
       "│ kentcdodds/kentcdodds.com       ┆ 29                │\n",
       "│ …                               ┆ …                 │\n",
       "│ epicweb-dev/pixel-perfect-tail… ┆ 1                 │\n",
       "│ kentcdodds/advanced-react-patt… ┆ 1                 │\n",
       "│ epicweb-dev/remember            ┆ 1                 │\n",
       "│ rperon/epic-stack-with-passkey… ┆ 1                 │\n",
       "│ epicweb-dev/client-hints        ┆ 1                 │\n",
       "└─────────────────────────────────┴───────────────────┘"
      ]
     },
     "execution_count": 3,
     "metadata": {},
     "output_type": "execute_result"
    }
   ],
   "source": [
    "from github_analysis.data_frame_processing import (\n",
    "    group_pull_request_reviews_by_repositories,\n",
    "    pull_request_reviews_as_data_frame,\n",
    ")\n",
    "\n",
    "pull_request_reviews_data_frame = pull_request_reviews_as_data_frame(\n",
    "    pull_request_reviews=pull_request_reviews\n",
    ")\n",
    "grouped_pull_request_reviews = group_pull_request_reviews_by_repositories(\n",
    "    pull_request_reviews=pull_request_reviews_data_frame\n",
    ")\n",
    "grouped_pull_request_reviews"
   ]
  },
  {
   "cell_type": "code",
   "execution_count": 4,
   "metadata": {},
   "outputs": [
    {
     "data": {
      "text/html": [
       "<div><style>\n",
       ".dataframe > thead > tr,\n",
       ".dataframe > tbody > tr {\n",
       "  text-align: right;\n",
       "  white-space: pre-wrap;\n",
       "}\n",
       "</style>\n",
       "<small>shape: (2, 2)</small><table border=\"1\" class=\"dataframe\"><thead><tr><th>stat</th><th>totals</th></tr><tr><td>str</td><td>i64</td></tr></thead><tbody><tr><td>&quot;reviews&quot;</td><td>358</td></tr><tr><td>&quot;pull_requests&quot;</td><td>49</td></tr></tbody></table></div>"
      ],
      "text/plain": [
       "shape: (2, 2)\n",
       "┌───────────────┬────────┐\n",
       "│ stat          ┆ totals │\n",
       "│ ---           ┆ ---    │\n",
       "│ str           ┆ i64    │\n",
       "╞═══════════════╪════════╡\n",
       "│ reviews       ┆ 358    │\n",
       "│ pull_requests ┆ 49     │\n",
       "└───────────────┴────────┘"
      ]
     },
     "execution_count": 4,
     "metadata": {},
     "output_type": "execute_result"
    }
   ],
   "source": [
    "from github_analysis.data_frame_processing import process_total_stats\n",
    "\n",
    "total_stats = process_total_stats(\n",
    "    grouped_pull_request_reviews=grouped_pull_request_reviews,\n",
    "    grouped_merged_pull_requests=grouped_merged_pull_requests,\n",
    ")\n",
    "total_stats"
   ]
  }
 ],
 "metadata": {
  "kernelspec": {
   "display_name": ".venv",
   "language": "python",
   "name": "python3"
  },
  "language_info": {
   "codemirror_mode": {
    "name": "ipython",
    "version": 3
   },
   "file_extension": ".py",
   "mimetype": "text/x-python",
   "name": "python",
   "nbconvert_exporter": "python",
   "pygments_lexer": "ipython3",
   "version": "3.12.6"
  }
 },
 "nbformat": 4,
 "nbformat_minor": 2
}
