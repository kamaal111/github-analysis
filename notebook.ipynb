{
 "cells": [
  {
   "cell_type": "code",
   "execution_count": 1,
   "metadata": {},
   "outputs": [
    {
     "data": {
      "text/plain": [
       "[GitHubPullRequest(createdAt=datetime.datetime(2024, 4, 29, 9, 47, 44, tzinfo=TzInfo(UTC)), author=GitHubAuthor(login='kamaal111'), comments=GitHubComments(totalCount=0), baseRepository=GitHubRepository(nameWithOwner='kamaal111/ColorPicker')),\n",
       " GitHubPullRequest(createdAt=datetime.datetime(2024, 4, 29, 11, 5, 54, tzinfo=TzInfo(UTC)), author=GitHubAuthor(login='kamaal111'), comments=GitHubComments(totalCount=0), baseRepository=GitHubRepository(nameWithOwner='kamaal111/kamaal111.github.io')),\n",
       " GitHubPullRequest(createdAt=datetime.datetime(2024, 4, 29, 11, 7, 51, tzinfo=TzInfo(UTC)), author=GitHubAuthor(login='kamaal111'), comments=GitHubComments(totalCount=0), baseRepository=GitHubRepository(nameWithOwner='kamaal111/kamaal111.github.io')),\n",
       " GitHubPullRequest(createdAt=datetime.datetime(2024, 5, 20, 11, 17, 30, tzinfo=TzInfo(UTC)), author=GitHubAuthor(login='kamaal111'), comments=GitHubComments(totalCount=0), baseRepository=GitHubRepository(nameWithOwner='Kamaalio/Kamaal.ts')),\n",
       " GitHubPullRequest(createdAt=datetime.datetime(2024, 5, 20, 12, 12, 52, tzinfo=TzInfo(UTC)), author=GitHubAuthor(login='kamaal111'), comments=GitHubComments(totalCount=0), baseRepository=GitHubRepository(nameWithOwner='Kamaalio/Kamaal.ts')),\n",
       " GitHubPullRequest(createdAt=datetime.datetime(2024, 9, 2, 19, 49, 54, tzinfo=TzInfo(UTC)), author=GitHubAuthor(login='kamaal111'), comments=GitHubComments(totalCount=0), baseRepository=GitHubRepository(nameWithOwner='Kamaalio/Kamaal.ts')),\n",
       " GitHubPullRequest(createdAt=datetime.datetime(2024, 9, 2, 20, 18, 42, tzinfo=TzInfo(UTC)), author=GitHubAuthor(login='kamaal111'), comments=GitHubComments(totalCount=0), baseRepository=GitHubRepository(nameWithOwner='Kamaalio/Kamaal.ts'))]"
      ]
     },
     "execution_count": 1,
     "metadata": {},
     "output_type": "execute_result"
    }
   ],
   "source": [
    "from datetime import datetime, timezone\n",
    "\n",
    "from dateutil.relativedelta import relativedelta\n",
    "\n",
    "from github_analysis.github.service import GitHubService\n",
    "\n",
    "github_service = GitHubService()\n",
    "\n",
    "now = datetime.now().replace(tzinfo=timezone.utc)\n",
    "one_month_ago = now - relativedelta(months=1)\n",
    "\n",
    "await github_service.get_users_pull_requests(\n",
    "    username=\"kamaal111\", filter_states=[\"MERGED\"], until=one_month_ago\n",
    ")"
   ]
  }
 ],
 "metadata": {
  "kernelspec": {
   "display_name": ".venv",
   "language": "python",
   "name": "python3"
  },
  "language_info": {
   "codemirror_mode": {
    "name": "ipython",
    "version": 3
   },
   "file_extension": ".py",
   "mimetype": "text/x-python",
   "name": "python",
   "nbconvert_exporter": "python",
   "pygments_lexer": "ipython3",
   "version": "3.12.6"
  }
 },
 "nbformat": 4,
 "nbformat_minor": 2
}
