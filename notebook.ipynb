{
 "cells": [
  {
   "cell_type": "code",
   "execution_count": 2,
   "metadata": {},
   "outputs": [],
   "source": [
    "from datetime import datetime, timezone\n",
    "\n",
    "from dateutil.relativedelta import relativedelta\n",
    "\n",
    "from github_analysis.github.service import GitHubService\n",
    "\n",
    "github_service = GitHubService()"
   ]
  },
  {
   "cell_type": "code",
   "execution_count": 3,
   "metadata": {},
   "outputs": [
    {
     "data": {
      "text/html": [
       "<div><style>\n",
       ".dataframe > thead > tr,\n",
       ".dataframe > tbody > tr {\n",
       "  text-align: right;\n",
       "  white-space: pre-wrap;\n",
       "}\n",
       "</style>\n",
       "<small>shape: (7, 3)</small><table border=\"1\" class=\"dataframe\"><thead><tr><th>created_at</th><th>amount_of_comments</th><th>repository_name</th></tr><tr><td>datetime[μs, UTC]</td><td>i64</td><td>str</td></tr></thead><tbody><tr><td>2024-04-29 09:47:44 UTC</td><td>0</td><td>&quot;kamaal111/ColorPicker&quot;</td></tr><tr><td>2024-04-29 11:05:54 UTC</td><td>0</td><td>&quot;kamaal111/kamaal111.github.io&quot;</td></tr><tr><td>2024-04-29 11:07:51 UTC</td><td>0</td><td>&quot;kamaal111/kamaal111.github.io&quot;</td></tr><tr><td>2024-05-20 11:17:30 UTC</td><td>0</td><td>&quot;Kamaalio/Kamaal.ts&quot;</td></tr><tr><td>2024-05-20 12:12:52 UTC</td><td>0</td><td>&quot;Kamaalio/Kamaal.ts&quot;</td></tr><tr><td>2024-09-02 19:49:54 UTC</td><td>0</td><td>&quot;Kamaalio/Kamaal.ts&quot;</td></tr><tr><td>2024-09-02 20:18:42 UTC</td><td>0</td><td>&quot;Kamaalio/Kamaal.ts&quot;</td></tr></tbody></table></div>"
      ],
      "text/plain": [
       "shape: (7, 3)\n",
       "┌─────────────────────────┬────────────────────┬───────────────────────────────┐\n",
       "│ created_at              ┆ amount_of_comments ┆ repository_name               │\n",
       "│ ---                     ┆ ---                ┆ ---                           │\n",
       "│ datetime[μs, UTC]       ┆ i64                ┆ str                           │\n",
       "╞═════════════════════════╪════════════════════╪═══════════════════════════════╡\n",
       "│ 2024-04-29 09:47:44 UTC ┆ 0                  ┆ kamaal111/ColorPicker         │\n",
       "│ 2024-04-29 11:05:54 UTC ┆ 0                  ┆ kamaal111/kamaal111.github.io │\n",
       "│ 2024-04-29 11:07:51 UTC ┆ 0                  ┆ kamaal111/kamaal111.github.io │\n",
       "│ 2024-05-20 11:17:30 UTC ┆ 0                  ┆ Kamaalio/Kamaal.ts            │\n",
       "│ 2024-05-20 12:12:52 UTC ┆ 0                  ┆ Kamaalio/Kamaal.ts            │\n",
       "│ 2024-09-02 19:49:54 UTC ┆ 0                  ┆ Kamaalio/Kamaal.ts            │\n",
       "│ 2024-09-02 20:18:42 UTC ┆ 0                  ┆ Kamaalio/Kamaal.ts            │\n",
       "└─────────────────────────┴────────────────────┴───────────────────────────────┘"
      ]
     },
     "execution_count": 3,
     "metadata": {},
     "output_type": "execute_result"
    }
   ],
   "source": [
    "now = datetime.now().replace(tzinfo=timezone.utc)\n",
    "one_month_ago = now - relativedelta(months=1)\n",
    "\n",
    "await github_service.get_users_pull_requests_as_data_frame(\n",
    "    username=\"kamaal111\", filter_states=[\"MERGED\"], until=one_month_ago\n",
    ")"
   ]
  }
 ],
 "metadata": {
  "kernelspec": {
   "display_name": ".venv",
   "language": "python",
   "name": "python3"
  },
  "language_info": {
   "codemirror_mode": {
    "name": "ipython",
    "version": 3
   },
   "file_extension": ".py",
   "mimetype": "text/x-python",
   "name": "python",
   "nbconvert_exporter": "python",
   "pygments_lexer": "ipython3",
   "version": "3.12.6"
  }
 },
 "nbformat": 4,
 "nbformat_minor": 2
}
